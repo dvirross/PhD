{
 "cells": [
  {
   "cell_type": "code",
   "execution_count": 1,
   "metadata": {},
   "outputs": [],
   "source": [
    "import numpy as np\n",
    "import pandas as pd\n",
    "import scipy.stats as stats\n",
    "import matplotlib.pyplot as plt"
   ]
  },
  {
   "cell_type": "code",
   "execution_count": 2,
   "metadata": {},
   "outputs": [],
   "source": [
    "data = pd.read_csv('datasets/FilteredData.csv')"
   ]
  },
  {
   "cell_type": "code",
   "execution_count": 3,
   "metadata": {},
   "outputs": [
    {
     "data": {
      "text/html": [
       "<div>\n",
       "<style scoped>\n",
       "    .dataframe tbody tr th:only-of-type {\n",
       "        vertical-align: middle;\n",
       "    }\n",
       "\n",
       "    .dataframe tbody tr th {\n",
       "        vertical-align: top;\n",
       "    }\n",
       "\n",
       "    .dataframe thead th {\n",
       "        text-align: right;\n",
       "    }\n",
       "</style>\n",
       "<table border=\"1\" class=\"dataframe\">\n",
       "  <thead>\n",
       "    <tr style=\"text-align: right;\">\n",
       "      <th></th>\n",
       "      <th>ClientID</th>\n",
       "      <th>CycleNumber</th>\n",
       "      <th>LengthofCycle</th>\n",
       "    </tr>\n",
       "  </thead>\n",
       "  <tbody>\n",
       "    <tr>\n",
       "      <th>0</th>\n",
       "      <td>nfp8122</td>\n",
       "      <td>1</td>\n",
       "      <td>30</td>\n",
       "    </tr>\n",
       "    <tr>\n",
       "      <th>1</th>\n",
       "      <td>nfp8122</td>\n",
       "      <td>2</td>\n",
       "      <td>28</td>\n",
       "    </tr>\n",
       "    <tr>\n",
       "      <th>2</th>\n",
       "      <td>nfp8122</td>\n",
       "      <td>3</td>\n",
       "      <td>30</td>\n",
       "    </tr>\n",
       "    <tr>\n",
       "      <th>3</th>\n",
       "      <td>nfp8122</td>\n",
       "      <td>4</td>\n",
       "      <td>28</td>\n",
       "    </tr>\n",
       "    <tr>\n",
       "      <th>4</th>\n",
       "      <td>nfp8122</td>\n",
       "      <td>5</td>\n",
       "      <td>29</td>\n",
       "    </tr>\n",
       "    <tr>\n",
       "      <th>...</th>\n",
       "      <td>...</td>\n",
       "      <td>...</td>\n",
       "      <td>...</td>\n",
       "    </tr>\n",
       "    <tr>\n",
       "      <th>1549</th>\n",
       "      <td>nfp8334</td>\n",
       "      <td>7</td>\n",
       "      <td>30</td>\n",
       "    </tr>\n",
       "    <tr>\n",
       "      <th>1550</th>\n",
       "      <td>nfp8334</td>\n",
       "      <td>8</td>\n",
       "      <td>29</td>\n",
       "    </tr>\n",
       "    <tr>\n",
       "      <th>1551</th>\n",
       "      <td>nfp8334</td>\n",
       "      <td>9</td>\n",
       "      <td>29</td>\n",
       "    </tr>\n",
       "    <tr>\n",
       "      <th>1552</th>\n",
       "      <td>nfp8334</td>\n",
       "      <td>10</td>\n",
       "      <td>41</td>\n",
       "    </tr>\n",
       "    <tr>\n",
       "      <th>1553</th>\n",
       "      <td>nfp8334</td>\n",
       "      <td>11</td>\n",
       "      <td>25</td>\n",
       "    </tr>\n",
       "  </tbody>\n",
       "</table>\n",
       "<p>1554 rows × 3 columns</p>\n",
       "</div>"
      ],
      "text/plain": [
       "     ClientID  CycleNumber  LengthofCycle\n",
       "0     nfp8122            1             30\n",
       "1     nfp8122            2             28\n",
       "2     nfp8122            3             30\n",
       "3     nfp8122            4             28\n",
       "4     nfp8122            5             29\n",
       "...       ...          ...            ...\n",
       "1549  nfp8334            7             30\n",
       "1550  nfp8334            8             29\n",
       "1551  nfp8334            9             29\n",
       "1552  nfp8334           10             41\n",
       "1553  nfp8334           11             25\n",
       "\n",
       "[1554 rows x 3 columns]"
      ]
     },
     "execution_count": 3,
     "metadata": {},
     "output_type": "execute_result"
    }
   ],
   "source": [
    "df = data[['ClientID','CycleNumber','LengthofCycle']].copy()\n",
    "df.loc[:, 'LengthofCycle'] = df['LengthofCycle'] + 1\n",
    "df"
   ]
  },
  {
   "cell_type": "code",
   "execution_count": 4,
   "metadata": {},
   "outputs": [],
   "source": [
    "change_index = data.index[df['ClientID'] != df['ClientID'].shift()].to_list()\n",
    "change_index.append(len(df)-1)\n",
    "change_indexes = [(change_index[i-1], change_index[i]) for i in range(1,len(change_index))]"
   ]
  },
  {
   "cell_type": "code",
   "execution_count": 5,
   "metadata": {},
   "outputs": [],
   "source": [
    "def hafalga_sequences_count(lengths):\n",
    "    num_sequences = 0\n",
    "    for start, finish in change_indexes:\n",
    "        i = start + 2\n",
    "        while i < finish:\n",
    "            if lengths[i] == lengths[i-1] and lengths[i] == lengths[i-2]:\n",
    "                num_sequences += 1\n",
    "                while i < finish and lengths[i+1] == lengths[i]:\n",
    "                    i += 1\n",
    "            i += 1\n",
    "    return num_sequences\n",
    "\n",
    "def dilug_sequences_count(lengths):\n",
    "    num_sequences = 0\n",
    "    for start, finish in change_indexes:\n",
    "        i = start + 2\n",
    "        while i < finish:\n",
    "            if lengths[i] - lengths[i-1] == lengths[i-1] - lengths[i-2] and lengths[i] - lengths[i-1] != 0:\n",
    "                num_sequences += 1\n",
    "                while i < finish and lengths[i+1] - lengths[i] == lengths[i] - lengths[i-1]:\n",
    "                    i += 1\n",
    "            i += 1\n",
    "    return num_sequences\n",
    "\n",
    "def week_sequences_count(lengths):\n",
    "    weekdays_lenghts = [i for i in range(df['LengthofCycle'].min()+3,df['LengthofCycle'].max()+1,7)]\n",
    "    num_sequences = 0\n",
    "    for start, finish in change_indexes:\n",
    "        i = start + 1\n",
    "        while i < finish:\n",
    "            if lengths[i] in weekdays_lenghts and lengths[i] == lengths[i-1]:\n",
    "                num_sequences += 1\n",
    "                while i < finish and lengths[i+1] == lengths[i]:\n",
    "                    i += 1\n",
    "            i += 1\n",
    "    return num_sequences\n",
    "\n",
    "def week_dilug_sequences_count(lengths):\n",
    "    weekdays_lenghts = [30]\n",
    "    num_sequences = 0\n",
    "    for start, finish in change_indexes:\n",
    "        i = start + 1\n",
    "        while i < finish:\n",
    "            if lengths[i] in weekdays_lenghts and lengths[i] == lengths[i-1]:\n",
    "                num_sequences += 1\n",
    "                while i < finish and lengths[i+1] == lengths[i]:\n",
    "                    i += 1\n",
    "            i += 1\n",
    "    return num_sequences\n"
   ]
  },
  {
   "attachments": {},
   "cell_type": "markdown",
   "metadata": {},
   "source": [
    "$$ b_n = a_n - a_{n-1} $$\n",
    "$$ d_n = b_n - b_{n-1} $$\n",
    "$$ f_n = a_{n-1} + b_{n-1} + d $$"
   ]
  },
  {
   "cell_type": "code",
   "execution_count": 6,
   "metadata": {},
   "outputs": [],
   "source": [
    "def dilug_in_dilug_sequences_count(lengths):\n",
    "    num_sequences = 0\n",
    "    for start, finish in change_indexes:\n",
    "        i = start + 3      \n",
    "        while i < finish:\n",
    "            b1, b2, b3 = lengths[i-2] - lengths[i-3], lengths[i-1] - lengths[i-2], lengths[i] - lengths[i-1]\n",
    "            d1, d2 = b2 - b1, b3 - b2\n",
    "            if d1 == d2 and d1 != 0:\n",
    "                num_sequences += 1\n",
    "                b, d = b3, d2\n",
    "                while i + 1 < finish and lengths[i+1] == lengths[i] + b + d:\n",
    "                    i += 1\n",
    "                    b += d\n",
    "            i += 1\n",
    "    return num_sequences"
   ]
  },
  {
   "cell_type": "code",
   "execution_count": 7,
   "metadata": {},
   "outputs": [
    {
     "data": {
      "text/plain": [
       "array([26, 61, 32, 18, 27])"
      ]
     },
     "execution_count": 7,
     "metadata": {},
     "output_type": "execute_result"
    }
   ],
   "source": [
    "x = df['LengthofCycle'].copy()\n",
    "original_frequencies = np.array([hafalga_sequences_count(x), dilug_sequences_count(x), week_sequences_count(x), week_dilug_sequences_count(x), dilug_in_dilug_sequences_count(x)])\n",
    "original_frequencies"
   ]
  },
  {
   "cell_type": "code",
   "execution_count": 8,
   "metadata": {},
   "outputs": [],
   "source": [
    "num_permutations = 10000\n",
    "np.random.seed(17)\n",
    "simulations = []\n",
    "for _ in range(num_permutations):\n",
    "    x = np.random.permutation(df['LengthofCycle'])\n",
    "    simulations.append({\n",
    "        'Haflaga': hafalga_sequences_count(x),\n",
    "        'Dilug': dilug_sequences_count(x),\n",
    "        'Week': week_sequences_count(x),\n",
    "        'Week_Dilug': week_dilug_sequences_count(x),\n",
    "        'Dilug_in_Dilug': dilug_in_dilug_sequences_count(x)\n",
    "    })\n",
    "simulation_df = pd.DataFrame(simulations)   "
   ]
  },
  {
   "cell_type": "code",
   "execution_count": 10,
   "metadata": {},
   "outputs": [
    {
     "data": {
      "text/plain": [
       "Haflaga           11.3357\n",
       "Dilug             48.8814\n",
       "Week              27.0526\n",
       "Week_Dilug        16.2268\n",
       "Dilug_in_Dilug    27.1016\n",
       "dtype: float64"
      ]
     },
     "execution_count": 10,
     "metadata": {},
     "output_type": "execute_result"
    }
   ],
   "source": [
    "simulation_df.mean()"
   ]
  },
  {
   "cell_type": "code",
   "execution_count": 11,
   "metadata": {},
   "outputs": [
    {
     "data": {
      "text/plain": [
       "array([11.3357, 48.8814, 27.0526, 16.2268, 27.1016])"
      ]
     },
     "execution_count": 11,
     "metadata": {},
     "output_type": "execute_result"
    }
   ],
   "source": [
    "mean_frequencies = simulation_df.mean().values\n",
    "mean_frequencies"
   ]
  },
  {
   "cell_type": "code",
   "execution_count": 14,
   "metadata": {},
   "outputs": [
    {
     "data": {
      "text/plain": [
       "Haflaga            2\n",
       "Dilug             26\n",
       "Week              13\n",
       "Week_Dilug         5\n",
       "Dilug_in_Dilug     8\n",
       "dtype: int64"
      ]
     },
     "execution_count": 14,
     "metadata": {},
     "output_type": "execute_result"
    }
   ],
   "source": [
    "simulation_df.min()"
   ]
  },
  {
   "cell_type": "code",
   "execution_count": 15,
   "metadata": {},
   "outputs": [
    {
     "data": {
      "text/plain": [
       "Haflaga           27\n",
       "Dilug             76\n",
       "Week              42\n",
       "Week_Dilug        29\n",
       "Dilug_in_Dilug    48\n",
       "dtype: int64"
      ]
     },
     "execution_count": 15,
     "metadata": {},
     "output_type": "execute_result"
    }
   ],
   "source": [
    "simulation_df.max()"
   ]
  },
  {
   "cell_type": "code",
   "execution_count": 16,
   "metadata": {},
   "outputs": [
    {
     "data": {
      "text/plain": [
       "Haflaga           3.252670\n",
       "Dilug             6.526944\n",
       "Week              4.050787\n",
       "Week_Dilug        3.296066\n",
       "Dilug_in_Dilug    5.036151\n",
       "dtype: float64"
      ]
     },
     "execution_count": 16,
     "metadata": {},
     "output_type": "execute_result"
    }
   ],
   "source": [
    "simulation_df.std(ddof=1)"
   ]
  },
  {
   "cell_type": "code",
   "execution_count": 17,
   "metadata": {},
   "outputs": [
    {
     "data": {
      "text/html": [
       "<div>\n",
       "<style scoped>\n",
       "    .dataframe tbody tr th:only-of-type {\n",
       "        vertical-align: middle;\n",
       "    }\n",
       "\n",
       "    .dataframe tbody tr th {\n",
       "        vertical-align: top;\n",
       "    }\n",
       "\n",
       "    .dataframe thead th {\n",
       "        text-align: right;\n",
       "    }\n",
       "</style>\n",
       "<table border=\"1\" class=\"dataframe\">\n",
       "  <thead>\n",
       "    <tr style=\"text-align: right;\">\n",
       "      <th></th>\n",
       "      <th>Haflaga</th>\n",
       "      <th>Dilug</th>\n",
       "      <th>Week</th>\n",
       "      <th>Week_Dilug</th>\n",
       "      <th>Dilug_in_Dilug</th>\n",
       "      <th>distance_from_mean</th>\n",
       "    </tr>\n",
       "  </thead>\n",
       "  <tbody>\n",
       "    <tr>\n",
       "      <th>0</th>\n",
       "      <td>16</td>\n",
       "      <td>44</td>\n",
       "      <td>19</td>\n",
       "      <td>16</td>\n",
       "      <td>23</td>\n",
       "      <td>11.282849</td>\n",
       "    </tr>\n",
       "    <tr>\n",
       "      <th>1</th>\n",
       "      <td>11</td>\n",
       "      <td>49</td>\n",
       "      <td>23</td>\n",
       "      <td>14</td>\n",
       "      <td>13</td>\n",
       "      <td>14.844665</td>\n",
       "    </tr>\n",
       "    <tr>\n",
       "      <th>2</th>\n",
       "      <td>11</td>\n",
       "      <td>60</td>\n",
       "      <td>30</td>\n",
       "      <td>18</td>\n",
       "      <td>23</td>\n",
       "      <td>12.344654</td>\n",
       "    </tr>\n",
       "    <tr>\n",
       "      <th>3</th>\n",
       "      <td>13</td>\n",
       "      <td>55</td>\n",
       "      <td>26</td>\n",
       "      <td>19</td>\n",
       "      <td>21</td>\n",
       "      <td>9.286296</td>\n",
       "    </tr>\n",
       "    <tr>\n",
       "      <th>4</th>\n",
       "      <td>12</td>\n",
       "      <td>54</td>\n",
       "      <td>31</td>\n",
       "      <td>22</td>\n",
       "      <td>14</td>\n",
       "      <td>15.722757</td>\n",
       "    </tr>\n",
       "    <tr>\n",
       "      <th>...</th>\n",
       "      <td>...</td>\n",
       "      <td>...</td>\n",
       "      <td>...</td>\n",
       "      <td>...</td>\n",
       "      <td>...</td>\n",
       "      <td>...</td>\n",
       "    </tr>\n",
       "    <tr>\n",
       "      <th>9995</th>\n",
       "      <td>9</td>\n",
       "      <td>55</td>\n",
       "      <td>26</td>\n",
       "      <td>17</td>\n",
       "      <td>24</td>\n",
       "      <td>7.363320</td>\n",
       "    </tr>\n",
       "    <tr>\n",
       "      <th>9996</th>\n",
       "      <td>16</td>\n",
       "      <td>41</td>\n",
       "      <td>27</td>\n",
       "      <td>20</td>\n",
       "      <td>30</td>\n",
       "      <td>10.320498</td>\n",
       "    </tr>\n",
       "    <tr>\n",
       "      <th>9997</th>\n",
       "      <td>10</td>\n",
       "      <td>61</td>\n",
       "      <td>22</td>\n",
       "      <td>15</td>\n",
       "      <td>25</td>\n",
       "      <td>13.419951</td>\n",
       "    </tr>\n",
       "    <tr>\n",
       "      <th>9998</th>\n",
       "      <td>10</td>\n",
       "      <td>50</td>\n",
       "      <td>24</td>\n",
       "      <td>21</td>\n",
       "      <td>25</td>\n",
       "      <td>6.289188</td>\n",
       "    </tr>\n",
       "    <tr>\n",
       "      <th>9999</th>\n",
       "      <td>13</td>\n",
       "      <td>48</td>\n",
       "      <td>26</td>\n",
       "      <td>16</td>\n",
       "      <td>22</td>\n",
       "      <td>5.543689</td>\n",
       "    </tr>\n",
       "  </tbody>\n",
       "</table>\n",
       "<p>10000 rows × 6 columns</p>\n",
       "</div>"
      ],
      "text/plain": [
       "      Haflaga  Dilug  Week  Week_Dilug  Dilug_in_Dilug  distance_from_mean\n",
       "0          16     44    19          16              23           11.282849\n",
       "1          11     49    23          14              13           14.844665\n",
       "2          11     60    30          18              23           12.344654\n",
       "3          13     55    26          19              21            9.286296\n",
       "4          12     54    31          22              14           15.722757\n",
       "...       ...    ...   ...         ...             ...                 ...\n",
       "9995        9     55    26          17              24            7.363320\n",
       "9996       16     41    27          20              30           10.320498\n",
       "9997       10     61    22          15              25           13.419951\n",
       "9998       10     50    24          21              25            6.289188\n",
       "9999       13     48    26          16              22            5.543689\n",
       "\n",
       "[10000 rows x 6 columns]"
      ]
     },
     "execution_count": 17,
     "metadata": {},
     "output_type": "execute_result"
    }
   ],
   "source": [
    "differences_df = simulation_df.copy()\n",
    "differences_df['distance_from_mean'] = np.linalg.norm(differences_df[['Haflaga', 'Dilug', 'Week', 'Week_Dilug', 'Dilug_in_Dilug']] - mean_frequencies, axis=1)\n",
    "differences_df"
   ]
  },
  {
   "cell_type": "code",
   "execution_count": 18,
   "metadata": {},
   "outputs": [
    {
     "name": "stderr",
     "output_type": "stream",
     "text": [
      "No artists with labels found to put in legend.  Note that artists whose label start with an underscore are ignored when legend() is called with no argument.\n"
     ]
    },
    {
     "data": {
      "image/png": "[encoded data removed]",
      "text/plain": [
       "<Figure size 800x600 with 1 Axes>"
      ]
     },
     "metadata": {},
     "output_type": "display_data"
    }
   ],
   "source": [
    "plt.figure(figsize=(8, 6))\n",
    "distances_density = stats.gaussian_kde(differences_df['distance_from_mean'])\n",
    "x_dis = np.linspace(differences_df['distance_from_mean'].min(), differences_df['distance_from_mean'].max(), 100)\n",
    "plt.plot(x_dis, distances_density(x_dis))\n",
    "# Set plot properties\n",
    "plt.xlabel('Distance from mean frequencies vector')\n",
    "plt.ylabel('Density')\n",
    "plt.title('Density Functions of Distances from mean frequencies vector')\n",
    "plt.legend()\n",
    "\n",
    "# Show the plot\n",
    "plt.show()\n"
   ]
  },
  {
   "cell_type": "code",
   "execution_count": 19,
   "metadata": {},
   "outputs": [
    {
     "data": {
      "image/png": "[encoded data removed]",
      "text/plain": [
       "<Figure size 800x600 with 1 Axes>"
      ]
     },
     "metadata": {},
     "output_type": "display_data"
    }
   ],
   "source": [
    "plt.figure(figsize=(8, 6))\n",
    "distances_density = stats.gaussian_kde(differences_df['distance_from_mean'])\n",
    "x_dis = np.linspace(differences_df['distance_from_mean'].min(), differences_df['distance_from_mean'].max(), 100)\n",
    "cumulative = [distances_density.integrate_box_1d(differences_df['distance_from_mean'].min(), x) for x in x_dis]\n",
    "plt.plot(x_dis, cumulative)\n",
    "# Set plot properties\n",
    "plt.xlabel('Distance from mean frequencies vector')\n",
    "plt.ylabel('Cumulative Distribution')\n",
    "plt.title('Cumulative Distribution of Distances from mean frequencies vector')\n",
    "\n",
    "# Show the plot\n",
    "plt.show()"
   ]
  },
  {
   "cell_type": "code",
   "execution_count": 20,
   "metadata": {},
   "outputs": [
    {
     "data": {
      "text/plain": [
       "19.736602747433512"
      ]
     },
     "execution_count": 20,
     "metadata": {},
     "output_type": "execute_result"
    }
   ],
   "source": [
    "distance_original_to_mean = np.linalg.norm(original_frequencies - mean_frequencies)\n",
    "distance_original_to_mean"
   ]
  },
  {
   "cell_type": "code",
   "execution_count": 21,
   "metadata": {},
   "outputs": [
    {
     "data": {
      "text/plain": [
       "0.9909"
      ]
     },
     "execution_count": 21,
     "metadata": {},
     "output_type": "execute_result"
    }
   ],
   "source": [
    "percentile = np.searchsorted(np.sort(differences_df['distance_from_mean']), distance_original_to_mean, side='right') / len(differences_df['distance_from_mean'])\n",
    "percentile"
   ]
  }
 ],
 "metadata": {
  "kernelspec": {
   "display_name": "Python 3",
   "language": "python",
   "name": "python3"
  },
  "language_info": {
   "codemirror_mode": {
    "name": "ipython",
    "version": 3
   },
   "file_extension": ".py",
   "mimetype": "text/x-python",
   "name": "python",
   "nbconvert_exporter": "python",
   "pygments_lexer": "ipython3",
   "version": "3.11.3"
  },
  "orig_nbformat": 4
 },
 "nbformat": 4,
 "nbformat_minor": 2
}
