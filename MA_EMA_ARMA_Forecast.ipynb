{
 "cells": [
  {
   "cell_type": "code",
   "execution_count": 1,
   "metadata": {},
   "outputs": [],
   "source": [
    "# Import necessary libraries\n",
    "import pandas as pd\n",
    "import numpy as np\n",
    "import matplotlib.pyplot as plt"
   ]
  },
  {
   "cell_type": "code",
   "execution_count": 2,
   "metadata": {},
   "outputs": [],
   "source": [
    "#Load Data\n",
    "df = pd.read_csv('datasets/FilteredData.csv')\n",
    "df = df[['ClientID','CycleNumber','LengthofCycle']]\n",
    "df.loc[:, 'LengthofCycle'] = df['LengthofCycle'] + 1\n",
    "\n",
    "# Find the partition to different ClientID's\n",
    "change_index = df.index[df['ClientID'] != df['ClientID'].shift()].to_list()\n",
    "change_index.append(len(df))\n",
    "change_indexes = [(change_index[i-1], change_index[i]) for i in range(1,len(change_index))]"
   ]
  },
  {
   "cell_type": "code",
   "execution_count": 3,
   "metadata": {},
   "outputs": [],
   "source": [
    "# helper functions\n",
    "\n",
    "def calculate_rmse(actual, predicted):\n",
    "    mask = ~np.isnan(predicted)\n",
    "    return np.sqrt(np.nanmean((actual[mask] - predicted[mask]) ** 2))\n",
    "\n",
    "def custom_round(x):\n",
    "    if x % 1 == 0.5:\n",
    "        return int(x + 1)\n",
    "    else:\n",
    "        return round(x)"
   ]
  },
  {
   "attachments": {},
   "cell_type": "markdown",
   "metadata": {},
   "source": [
    "Mooving Average (MA)"
   ]
  },
  {
   "cell_type": "code",
   "execution_count": 4,
   "metadata": {},
   "outputs": [
    {
     "name": "stdout",
     "output_type": "stream",
     "text": [
      "RMSE list:\n",
      "[3.9502476915394222, 3.4309747512525637, 3.2459531264582897, 3.1716229600248993, 3.132518809952707, 3.117477017180117, 3.1126706640685016, 3.1161364550810733, 3.110432620448637, 3.1117756397773886]\n",
      "Best MA is:  9\n",
      "Best RMSE is:  3.110432620448637\n"
     ]
    }
   ],
   "source": [
    "# Finding the best Time Period to average\n",
    "max_cycles_to_average = 10\n",
    "best_rmse = float('inf')\n",
    "best_parameter = None\n",
    "column_names = []\n",
    "\n",
    "for cycles_to_average in range(1,max_cycles_to_average+1):\n",
    "    column_name = 'MA_'+str(cycles_to_average)\n",
    "    column_names.append(column_name)\n",
    "    # df[column_name] = df['LengthofCycle']\n",
    "    df[column_name] = np.nan\n",
    "\n",
    "    for start, finish in change_indexes:\n",
    "        # df.at[start, column_name] = np.nan\n",
    "        i = start + 1\n",
    "        while i < finish:\n",
    "            if df.at[i, 'CycleNumber'] <= cycles_to_average:\n",
    "                df.at[i, column_name] = df.loc[start:i-1,'LengthofCycle'].mean().round()\n",
    "                # df.at[i, column_name] = custom_round(df.loc[start:i-1,'LengthofCycle'].mean())\n",
    "                i += 1\n",
    "            else:\n",
    "                df.at[i, column_name] = df.loc[i-cycles_to_average:i-1,'LengthofCycle'].mean().round()\n",
    "                # df.at[i, column_name] = custom_round(df.loc[i-cycles_to_average:i-1,'LengthofCycle'].mean())\n",
    "                i += 1\n",
    "\n",
    "RMSE_list = []\n",
    "for column_name in column_names:\n",
    "    rmse = calculate_rmse(actual=df['LengthofCycle'],predicted=df[column_name])\n",
    "    if rmse < best_rmse:\n",
    "        best_rmse = rmse\n",
    "        best_parameter = column_name[-1]\n",
    "        if best_parameter == '0':\n",
    "            best_parameter = 10\n",
    "    RMSE_list.append(rmse)\n",
    "\n",
    "print(\"RMSE list:\")\n",
    "print(RMSE_list)\n",
    "print(\"Best MA is: \", best_parameter)\n",
    "print(\"Best RMSE is: \", best_rmse)"
   ]
  },
  {
   "attachments": {},
   "cell_type": "markdown",
   "metadata": {},
   "source": [
    "Exponential Smoothing (EMA)"
   ]
  },
  {
   "cell_type": "code",
   "execution_count": 69,
   "metadata": {},
   "outputs": [
    {
     "name": "stdout",
     "output_type": "stream",
     "text": [
      "Best smoothing factor is:  0.25\n",
      "RMSE:  3.1291824379228856\n"
     ]
    }
   ],
   "source": [
    "# Finding the best Smoothing Factor\n",
    "\n",
    "def exponential_smoothing_rmse(alpha, actual=df['LengthofCycle'], change_indexes=change_indexes):\n",
    "    predicted = np.zeros(len(actual))\n",
    "    for start, finish in change_indexes:\n",
    "        predicted[start] = np.nan\n",
    "        predicted[start + 1] = actual[start]\n",
    "        for i in range(start + 2, finish):\n",
    "            # predicted[i] = custom_round((1 - alpha) * predicted[i - 1] + alpha * actual[i-1]) # leads to Best smoothing factor is 0.269 and RMSE:  3.1387372156955413\n",
    "            predicted[i] = round((1 - alpha) * predicted[i - 1] + alpha * actual[i-1])\n",
    "    return calculate_rmse(actual, predicted)\n",
    "\n",
    "\n",
    "alpha_range = np.linspace(0,1,1001)\n",
    "\n",
    "best_alpha = None\n",
    "best_rmse = float('inf')\n",
    "\n",
    "for smoothing_factor in alpha_range:\n",
    "    rmse = exponential_smoothing_rmse(alpha=smoothing_factor)\n",
    "    if rmse <= best_rmse:\n",
    "        best_rmse = rmse\n",
    "        best_alpha = smoothing_factor\n",
    "print(\"Best smoothing factor is: \", best_alpha)\n",
    "print(\"RMSE: \", best_rmse)"
   ]
  },
  {
   "attachments": {},
   "cell_type": "markdown",
   "metadata": {},
   "source": [
    "ARMA(1,1)"
   ]
  },
  {
   "cell_type": "code",
   "execution_count": 4,
   "metadata": {},
   "outputs": [],
   "source": [
    "def ARMA_1_1():\n",
    "    data = df['LengthofCycle']\n",
    "    column_name = 'ARMA(1,1)'\n",
    "    df[column_name] = np.nan\n",
    "    for start, finish in change_indexes:\n",
    "        # Initialize parameters\n",
    "        phi = 0.0  # AR coefficient\n",
    "        theta = 0.0  # MA coefficient\n",
    "        for i in range(start + 2, finish):\n",
    "            # Fit AR model\n",
    "            ar = data[i - 1] - phi * data[i - 2]\n",
    "\n",
    "            # Fit MA model\n",
    "            ma = data[i - 1] - phi * data[i - 2] - theta * ar\n",
    "\n",
    "            # Combine AR and MA predictions\n",
    "            df.at[i, column_name] = round(phi * data[i - 1] + theta * ar + ma)\n",
    "\n",
    "            # Update AR and MA coefficients (you can use different estimation methods)\n",
    "            phi = (data[i] - data[i - 1]) / data[i - 1]\n",
    "            theta = (data[i] - data[i - 1]) / ar\n",
    "        \n"
   ]
  },
  {
   "cell_type": "code",
   "execution_count": 38,
   "metadata": {},
   "outputs": [],
   "source": [
    "ARMA_1_1()"
   ]
  },
  {
   "cell_type": "code",
   "execution_count": 42,
   "metadata": {},
   "outputs": [
    {
     "data": {
      "text/plain": [
       "4.317624536576419"
      ]
     },
     "execution_count": 42,
     "metadata": {},
     "output_type": "execute_result"
    }
   ],
   "source": [
    "# regular rounding: 4.317624536576419,  custom rounding: the same\n",
    "calculate_rmse(actual=df['LengthofCycle'], predicted=df['ARMA(1,1)'])"
   ]
  },
  {
   "attachments": {},
   "cell_type": "markdown",
   "metadata": {},
   "source": [
    "Combination of MA, EMA, ARMA(1,1)"
   ]
  },
  {
   "cell_type": "code",
   "execution_count": 5,
   "metadata": {},
   "outputs": [],
   "source": [
    "# MA_9\n",
    "cycles_to_average = 9\n",
    "column_name = 'MA_'+str(cycles_to_average)\n",
    "df[column_name] = np.nan\n",
    "\n",
    "for start, finish in change_indexes:\n",
    "    i = start + 1\n",
    "    while i < finish:\n",
    "        if df.at[i, 'CycleNumber'] <= cycles_to_average:\n",
    "            df.at[i, column_name] = df.loc[start:i-1,'LengthofCycle'].mean().round()\n",
    "            i += 1\n",
    "        else:\n",
    "            df.at[i, column_name] = df.loc[i-cycles_to_average:i-1,'LengthofCycle'].mean().round()\n",
    "            i += 1\n",
    "\n",
    "# EMA\n",
    "df['EMA'] = np.nan\n",
    "alpha = 0.25\n",
    "for start, finish in change_indexes:\n",
    "    df.loc[start + 1, 'EMA'] = df.at[start, 'LengthofCycle']\n",
    "    for i in range(start + 2, finish):\n",
    "        df.loc[i, 'EMA'] = round((1 - alpha) * df.loc[i - 1, 'EMA'] + alpha * df.at[i - 1, 'LengthofCycle'])\n",
    "\n",
    "# ARMA(1,1)\n",
    "ARMA_1_1()"
   ]
  },
  {
   "cell_type": "code",
   "execution_count": 8,
   "metadata": {},
   "outputs": [
    {
     "data": {
      "text/html": [
       "<div>\n",
       "<style scoped>\n",
       "    .dataframe tbody tr th:only-of-type {\n",
       "        vertical-align: middle;\n",
       "    }\n",
       "\n",
       "    .dataframe tbody tr th {\n",
       "        vertical-align: top;\n",
       "    }\n",
       "\n",
       "    .dataframe thead th {\n",
       "        text-align: right;\n",
       "    }\n",
       "</style>\n",
       "<table border=\"1\" class=\"dataframe\">\n",
       "  <thead>\n",
       "    <tr style=\"text-align: right;\">\n",
       "      <th></th>\n",
       "      <th>ClientID</th>\n",
       "      <th>CycleNumber</th>\n",
       "      <th>LengthofCycle</th>\n",
       "      <th>MA_9</th>\n",
       "      <th>EMA</th>\n",
       "      <th>ARMA(1,1)</th>\n",
       "    </tr>\n",
       "  </thead>\n",
       "  <tbody>\n",
       "    <tr>\n",
       "      <th>0</th>\n",
       "      <td>nfp8122</td>\n",
       "      <td>1</td>\n",
       "      <td>30</td>\n",
       "      <td>NaN</td>\n",
       "      <td>NaN</td>\n",
       "      <td>NaN</td>\n",
       "    </tr>\n",
       "    <tr>\n",
       "      <th>1</th>\n",
       "      <td>nfp8122</td>\n",
       "      <td>2</td>\n",
       "      <td>28</td>\n",
       "      <td>30.0</td>\n",
       "      <td>30.0</td>\n",
       "      <td>NaN</td>\n",
       "    </tr>\n",
       "    <tr>\n",
       "      <th>2</th>\n",
       "      <td>nfp8122</td>\n",
       "      <td>3</td>\n",
       "      <td>30</td>\n",
       "      <td>29.0</td>\n",
       "      <td>30.0</td>\n",
       "      <td>28.0</td>\n",
       "    </tr>\n",
       "    <tr>\n",
       "      <th>3</th>\n",
       "      <td>nfp8122</td>\n",
       "      <td>4</td>\n",
       "      <td>28</td>\n",
       "      <td>29.0</td>\n",
       "      <td>30.0</td>\n",
       "      <td>30.0</td>\n",
       "    </tr>\n",
       "    <tr>\n",
       "      <th>4</th>\n",
       "      <td>nfp8122</td>\n",
       "      <td>5</td>\n",
       "      <td>29</td>\n",
       "      <td>29.0</td>\n",
       "      <td>30.0</td>\n",
       "      <td>28.0</td>\n",
       "    </tr>\n",
       "    <tr>\n",
       "      <th>...</th>\n",
       "      <td>...</td>\n",
       "      <td>...</td>\n",
       "      <td>...</td>\n",
       "      <td>...</td>\n",
       "      <td>...</td>\n",
       "      <td>...</td>\n",
       "    </tr>\n",
       "    <tr>\n",
       "      <th>1549</th>\n",
       "      <td>nfp8334</td>\n",
       "      <td>7</td>\n",
       "      <td>30</td>\n",
       "      <td>30.0</td>\n",
       "      <td>31.0</td>\n",
       "      <td>33.0</td>\n",
       "    </tr>\n",
       "    <tr>\n",
       "      <th>1550</th>\n",
       "      <td>nfp8334</td>\n",
       "      <td>8</td>\n",
       "      <td>29</td>\n",
       "      <td>30.0</td>\n",
       "      <td>31.0</td>\n",
       "      <td>30.0</td>\n",
       "    </tr>\n",
       "    <tr>\n",
       "      <th>1551</th>\n",
       "      <td>nfp8334</td>\n",
       "      <td>9</td>\n",
       "      <td>29</td>\n",
       "      <td>30.0</td>\n",
       "      <td>30.0</td>\n",
       "      <td>29.0</td>\n",
       "    </tr>\n",
       "    <tr>\n",
       "      <th>1552</th>\n",
       "      <td>nfp8334</td>\n",
       "      <td>10</td>\n",
       "      <td>41</td>\n",
       "      <td>30.0</td>\n",
       "      <td>30.0</td>\n",
       "      <td>29.0</td>\n",
       "    </tr>\n",
       "    <tr>\n",
       "      <th>1553</th>\n",
       "      <td>nfp8334</td>\n",
       "      <td>11</td>\n",
       "      <td>25</td>\n",
       "      <td>31.0</td>\n",
       "      <td>33.0</td>\n",
       "      <td>46.0</td>\n",
       "    </tr>\n",
       "  </tbody>\n",
       "</table>\n",
       "<p>1554 rows × 6 columns</p>\n",
       "</div>"
      ],
      "text/plain": [
       "     ClientID  CycleNumber  LengthofCycle  MA_9   EMA  ARMA(1,1)\n",
       "0     nfp8122            1             30   NaN   NaN        NaN\n",
       "1     nfp8122            2             28  30.0  30.0        NaN\n",
       "2     nfp8122            3             30  29.0  30.0       28.0\n",
       "3     nfp8122            4             28  29.0  30.0       30.0\n",
       "4     nfp8122            5             29  29.0  30.0       28.0\n",
       "...       ...          ...            ...   ...   ...        ...\n",
       "1549  nfp8334            7             30  30.0  31.0       33.0\n",
       "1550  nfp8334            8             29  30.0  31.0       30.0\n",
       "1551  nfp8334            9             29  30.0  30.0       29.0\n",
       "1552  nfp8334           10             41  30.0  30.0       29.0\n",
       "1553  nfp8334           11             25  31.0  33.0       46.0\n",
       "\n",
       "[1554 rows x 6 columns]"
      ]
     },
     "execution_count": 8,
     "metadata": {},
     "output_type": "execute_result"
    }
   ],
   "source": [
    "df"
   ]
  },
  {
   "cell_type": "code",
   "execution_count": 6,
   "metadata": {},
   "outputs": [],
   "source": [
    "# Combining the 3 methods to a single forecast\n",
    "df['Combined'] = np.nan\n",
    "for i, r in df.iterrows():\n",
    "    if df.at[i, 'CycleNumber'] == 1:\n",
    "        continue\n",
    "    elif df.at[i, 'CycleNumber'] == 2:\n",
    "        actual = df.at[i, 'LengthofCycle']\n",
    "        ma = df.at[i, 'MA_9']\n",
    "        ema = df.at[i, 'EMA']\n",
    "        if abs(actual - ma) <= abs(actual - ema):\n",
    "            df.at[i, 'Combined'] = ma\n",
    "        else:\n",
    "            df.at[i, 'Combined'] = ema\n",
    "    else:\n",
    "        actual = df.at[i, 'LengthofCycle']\n",
    "        ma = df.at[i, 'MA_9']\n",
    "        ema = df.at[i, 'EMA']\n",
    "        arma = df.at[i, 'ARMA(1,1)']\n",
    "        if abs(actual - ma) <= abs(actual - ema) and abs(actual - ma) <= abs(actual - arma):\n",
    "            df.at[i, 'Combined'] = ma\n",
    "        elif abs(actual - ema) <= abs(actual - ma) and abs(actual - ema) <= abs(actual - arma):\n",
    "            df.at[i, 'Combined'] = ema\n",
    "        else:\n",
    "            df.at[i, 'Combined'] = arma"
   ]
  },
  {
   "cell_type": "code",
   "execution_count": 10,
   "metadata": {},
   "outputs": [
    {
     "data": {
      "text/html": [
       "<div>\n",
       "<style scoped>\n",
       "    .dataframe tbody tr th:only-of-type {\n",
       "        vertical-align: middle;\n",
       "    }\n",
       "\n",
       "    .dataframe tbody tr th {\n",
       "        vertical-align: top;\n",
       "    }\n",
       "\n",
       "    .dataframe thead th {\n",
       "        text-align: right;\n",
       "    }\n",
       "</style>\n",
       "<table border=\"1\" class=\"dataframe\">\n",
       "  <thead>\n",
       "    <tr style=\"text-align: right;\">\n",
       "      <th></th>\n",
       "      <th>ClientID</th>\n",
       "      <th>CycleNumber</th>\n",
       "      <th>LengthofCycle</th>\n",
       "      <th>MA_9</th>\n",
       "      <th>EMA</th>\n",
       "      <th>ARMA(1,1)</th>\n",
       "      <th>Combined</th>\n",
       "    </tr>\n",
       "  </thead>\n",
       "  <tbody>\n",
       "    <tr>\n",
       "      <th>0</th>\n",
       "      <td>nfp8122</td>\n",
       "      <td>1</td>\n",
       "      <td>30</td>\n",
       "      <td>NaN</td>\n",
       "      <td>NaN</td>\n",
       "      <td>NaN</td>\n",
       "      <td>NaN</td>\n",
       "    </tr>\n",
       "    <tr>\n",
       "      <th>1</th>\n",
       "      <td>nfp8122</td>\n",
       "      <td>2</td>\n",
       "      <td>28</td>\n",
       "      <td>30.0</td>\n",
       "      <td>30.0</td>\n",
       "      <td>NaN</td>\n",
       "      <td>30.0</td>\n",
       "    </tr>\n",
       "    <tr>\n",
       "      <th>2</th>\n",
       "      <td>nfp8122</td>\n",
       "      <td>3</td>\n",
       "      <td>30</td>\n",
       "      <td>29.0</td>\n",
       "      <td>30.0</td>\n",
       "      <td>28.0</td>\n",
       "      <td>30.0</td>\n",
       "    </tr>\n",
       "    <tr>\n",
       "      <th>3</th>\n",
       "      <td>nfp8122</td>\n",
       "      <td>4</td>\n",
       "      <td>28</td>\n",
       "      <td>29.0</td>\n",
       "      <td>30.0</td>\n",
       "      <td>30.0</td>\n",
       "      <td>29.0</td>\n",
       "    </tr>\n",
       "    <tr>\n",
       "      <th>4</th>\n",
       "      <td>nfp8122</td>\n",
       "      <td>5</td>\n",
       "      <td>29</td>\n",
       "      <td>29.0</td>\n",
       "      <td>30.0</td>\n",
       "      <td>28.0</td>\n",
       "      <td>29.0</td>\n",
       "    </tr>\n",
       "    <tr>\n",
       "      <th>...</th>\n",
       "      <td>...</td>\n",
       "      <td>...</td>\n",
       "      <td>...</td>\n",
       "      <td>...</td>\n",
       "      <td>...</td>\n",
       "      <td>...</td>\n",
       "      <td>...</td>\n",
       "    </tr>\n",
       "    <tr>\n",
       "      <th>1549</th>\n",
       "      <td>nfp8334</td>\n",
       "      <td>7</td>\n",
       "      <td>30</td>\n",
       "      <td>30.0</td>\n",
       "      <td>31.0</td>\n",
       "      <td>33.0</td>\n",
       "      <td>30.0</td>\n",
       "    </tr>\n",
       "    <tr>\n",
       "      <th>1550</th>\n",
       "      <td>nfp8334</td>\n",
       "      <td>8</td>\n",
       "      <td>29</td>\n",
       "      <td>30.0</td>\n",
       "      <td>31.0</td>\n",
       "      <td>30.0</td>\n",
       "      <td>30.0</td>\n",
       "    </tr>\n",
       "    <tr>\n",
       "      <th>1551</th>\n",
       "      <td>nfp8334</td>\n",
       "      <td>9</td>\n",
       "      <td>29</td>\n",
       "      <td>30.0</td>\n",
       "      <td>30.0</td>\n",
       "      <td>29.0</td>\n",
       "      <td>29.0</td>\n",
       "    </tr>\n",
       "    <tr>\n",
       "      <th>1552</th>\n",
       "      <td>nfp8334</td>\n",
       "      <td>10</td>\n",
       "      <td>41</td>\n",
       "      <td>30.0</td>\n",
       "      <td>30.0</td>\n",
       "      <td>29.0</td>\n",
       "      <td>30.0</td>\n",
       "    </tr>\n",
       "    <tr>\n",
       "      <th>1553</th>\n",
       "      <td>nfp8334</td>\n",
       "      <td>11</td>\n",
       "      <td>25</td>\n",
       "      <td>31.0</td>\n",
       "      <td>33.0</td>\n",
       "      <td>46.0</td>\n",
       "      <td>31.0</td>\n",
       "    </tr>\n",
       "  </tbody>\n",
       "</table>\n",
       "<p>1554 rows × 7 columns</p>\n",
       "</div>"
      ],
      "text/plain": [
       "     ClientID  CycleNumber  LengthofCycle  MA_9   EMA  ARMA(1,1)  Combined\n",
       "0     nfp8122            1             30   NaN   NaN        NaN       NaN\n",
       "1     nfp8122            2             28  30.0  30.0        NaN      30.0\n",
       "2     nfp8122            3             30  29.0  30.0       28.0      30.0\n",
       "3     nfp8122            4             28  29.0  30.0       30.0      29.0\n",
       "4     nfp8122            5             29  29.0  30.0       28.0      29.0\n",
       "...       ...          ...            ...   ...   ...        ...       ...\n",
       "1549  nfp8334            7             30  30.0  31.0       33.0      30.0\n",
       "1550  nfp8334            8             29  30.0  31.0       30.0      30.0\n",
       "1551  nfp8334            9             29  30.0  30.0       29.0      29.0\n",
       "1552  nfp8334           10             41  30.0  30.0       29.0      30.0\n",
       "1553  nfp8334           11             25  31.0  33.0       46.0      31.0\n",
       "\n",
       "[1554 rows x 7 columns]"
      ]
     },
     "execution_count": 10,
     "metadata": {},
     "output_type": "execute_result"
    }
   ],
   "source": [
    "df"
   ]
  },
  {
   "cell_type": "code",
   "execution_count": 11,
   "metadata": {},
   "outputs": [
    {
     "data": {
      "text/plain": [
       "2.6435131094603217"
      ]
     },
     "execution_count": 11,
     "metadata": {},
     "output_type": "execute_result"
    }
   ],
   "source": [
    "calculate_rmse(actual=df['LengthofCycle'], predicted=df['Combined'])"
   ]
  },
  {
   "attachments": {},
   "cell_type": "markdown",
   "metadata": {},
   "source": [
    "Tradeoff: Number of abstinences to successful forecasts"
   ]
  },
  {
   "cell_type": "code",
   "execution_count": 14,
   "metadata": {},
   "outputs": [
    {
     "name": "stdout",
     "output_type": "stream",
     "text": [
      "Correct forecasts: 451\n",
      "False forecasts before menstruation: 1122\n",
      "Ratio: 2.4878\n",
      "Total number of different forecasts: 3415\n"
     ]
    }
   ],
   "source": [
    "number_of_abstinences = (\n",
    "    (df['MA_9'] < df['LengthofCycle']).sum() +\n",
    "    ((df['EMA'] < df['LengthofCycle']) & (df['EMA'] != df['MA_9'])).sum() +\n",
    "    ((df['ARMA(1,1)'] < df['LengthofCycle']) & (df['ARMA(1,1)'] != df['MA_9']) & (df['ARMA(1,1)'] != df['EMA'])).sum()\n",
    ")\n",
    "\n",
    "total_number_of_forecasts = (\n",
    "    (df['MA_9'] != np.nan).sum() +\n",
    "    ((df['EMA'] != np.nan) & (df['EMA'] != df['MA_9'])).sum() +\n",
    "    ((df['ARMA(1,1)'] != np.nan) & (df['ARMA(1,1)'] != df['MA_9']) & (df['ARMA(1,1)'] != df['EMA'])).sum()\n",
    ")\n",
    "\n",
    "successful_forecasts = len(df[df['LengthofCycle'] == df['Combined']])\n",
    "\n",
    "ratio = number_of_abstinences / successful_forecasts\n",
    "\n",
    "print(\"Correct forecasts:\", successful_forecasts)\n",
    "print(\"False forecasts before menstruation:\", number_of_abstinences)\n",
    "print(\"Ratio: {:.4f}\".format(ratio))\n",
    "print(\"Total number of different forecasts:\", total_number_of_forecasts)\n"
   ]
  },
  {
   "cell_type": "code",
   "execution_count": 10,
   "metadata": {},
   "outputs": [
    {
     "data": {
      "text/plain": [
       "118"
      ]
     },
     "execution_count": 10,
     "metadata": {},
     "output_type": "execute_result"
    }
   ],
   "source": [
    "df['Combined'].isna().sum()"
   ]
  },
  {
   "cell_type": "code",
   "execution_count": 12,
   "metadata": {},
   "outputs": [
    {
     "data": {
      "text/plain": [
       "0    28.0\n",
       "Name: Combined, dtype: float64"
      ]
     },
     "execution_count": 12,
     "metadata": {},
     "output_type": "execute_result"
    }
   ],
   "source": [
    "df['Combined'].mode()"
   ]
  },
  {
   "cell_type": "code",
   "execution_count": 13,
   "metadata": {},
   "outputs": [
    {
     "data": {
      "text/plain": [
       "count    1436.000000\n",
       "mean       30.279944\n",
       "std         3.079375\n",
       "min        24.000000\n",
       "25%        28.000000\n",
       "50%        30.000000\n",
       "75%        32.000000\n",
       "max        43.000000\n",
       "Name: Combined, dtype: float64"
      ]
     },
     "execution_count": 13,
     "metadata": {},
     "output_type": "execute_result"
    }
   ],
   "source": [
    "df['Combined'].describe()"
   ]
  }
 ],
 "metadata": {
  "kernelspec": {
   "display_name": "Python 3",
   "language": "python",
   "name": "python3"
  },
  "language_info": {
   "codemirror_mode": {
    "name": "ipython",
    "version": 3
   },
   "file_extension": ".py",
   "mimetype": "text/x-python",
   "name": "python",
   "nbconvert_exporter": "python",
   "pygments_lexer": "ipython3",
   "version": "3.11.3"
  },
  "orig_nbformat": 4
 },
 "nbformat": 4,
 "nbformat_minor": 2
}
